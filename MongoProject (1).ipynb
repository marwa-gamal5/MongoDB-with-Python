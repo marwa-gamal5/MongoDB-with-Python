{
 "cells": [
  {
   "cell_type": "code",
   "execution_count": 1,
   "metadata": {},
   "outputs": [
    {
     "name": "stdout",
     "output_type": "stream",
     "text": [
      "Requirement already satisfied: pymongo in /home/marwa/.local/lib/python3.8/site-packages (4.3.3)\n",
      "Requirement already satisfied: dnspython<3.0.0,>=1.16.0 in /home/marwa/.local/lib/python3.8/site-packages (from pymongo) (2.3.0)\n"
     ]
    }
   ],
   "source": [
    "! pip install pymongo"
   ]
  },
  {
   "cell_type": "code",
   "execution_count": 2,
   "metadata": {},
   "outputs": [
    {
     "name": "stdout",
     "output_type": "stream",
     "text": [
      "Requirement already up-to-date: pymongo in /home/marwa/.local/lib/python3.8/site-packages (4.3.3)\n",
      "Requirement already satisfied, skipping upgrade: dnspython<3.0.0,>=1.16.0 in /home/marwa/.local/lib/python3.8/site-packages (from pymongo) (2.3.0)\n"
     ]
    }
   ],
   "source": [
    "! pip install --upgrade pymongo\n"
   ]
  },
  {
   "cell_type": "code",
   "execution_count": 3,
   "metadata": {},
   "outputs": [],
   "source": [
    "from pymongo import MongoClient\n",
    "\n",
    "#by default we connected to localhost and 27017 \n",
    "#To check it when you write mongo in terminal \n",
    "#It brings \n",
    "#MongoDB shell version v3.6.8\n",
    "#connecting to: mongodb://127.0.0.1:27017\n",
    "#So we connect to localhost and 27017  (localhost is 127.0.0.1)\n",
    "client = MongoClient('localhost', 27017) # replace 'localhost' with your MongoDB server address"
   ]
  },
  {
   "cell_type": "code",
   "execution_count": 4,
   "metadata": {},
   "outputs": [
    {
     "name": "stdout",
     "output_type": "stream",
     "text": [
      "LungCancer\n",
      "Protien\n",
      "admin\n",
      "config\n",
      "employees\n",
      "fac\n",
      "foods\n",
      "local\n",
      "protein_database\n",
      "school\n",
      "teststore\n"
     ]
    }
   ],
   "source": [
    "dbs = client.list_database_names()\n",
    "for name in dbs:\n",
    "    print(name)"
   ]
  },
  {
   "cell_type": "code",
   "execution_count": 5,
   "metadata": {},
   "outputs": [],
   "source": [
    "db = client.get_database('Protien') # We select the name of db that we use\n",
    "collection_names = db.list_collection_names() #I want to know all collections in my db\n",
    "for name in collection_names:\n",
    "    print(name)"
   ]
  },
  {
   "cell_type": "code",
   "execution_count": 6,
   "metadata": {},
   "outputs": [
    {
     "name": "stdout",
     "output_type": "stream",
     "text": [
      "Requirement already satisfied: pymongo in /home/marwa/.local/lib/python3.8/site-packages (4.3.3)\n",
      "Requirement already satisfied: dnspython<3.0.0,>=1.16.0 in /home/marwa/.local/lib/python3.8/site-packages (from pymongo) (2.3.0)\n"
     ]
    }
   ],
   "source": [
    "! pip install pymongo"
   ]
  },
  {
   "cell_type": "code",
   "execution_count": 7,
   "metadata": {},
   "outputs": [],
   "source": [
    "import csv\n",
    "from pymongo import MongoClient"
   ]
  },
  {
   "cell_type": "code",
   "execution_count": 8,
   "metadata": {},
   "outputs": [],
   "source": [
    "client = MongoClient()\n",
    "db = client['Protein']\n"
   ]
  },
  {
   "cell_type": "code",
   "execution_count": 9,
   "metadata": {},
   "outputs": [
    {
     "ename": "CollectionInvalid",
     "evalue": "collection CrystallizationMethod already exists",
     "output_type": "error",
     "traceback": [
      "\u001b[0;31m---------------------------------------------------------------------------\u001b[0m",
      "\u001b[0;31mCollectionInvalid\u001b[0m                         Traceback (most recent call last)",
      "\u001b[0;32m<ipython-input-9-f1921a667d3e>\u001b[0m in \u001b[0;36m<module>\u001b[0;34m\u001b[0m\n\u001b[0;32m----> 1\u001b[0;31m \u001b[0mdb\u001b[0m\u001b[0;34m.\u001b[0m\u001b[0mcreate_collection\u001b[0m\u001b[0;34m(\u001b[0m\u001b[0;34m\"CrystallizationMethod\"\u001b[0m\u001b[0;34m)\u001b[0m\u001b[0;34m\u001b[0m\u001b[0;34m\u001b[0m\u001b[0m\n\u001b[0m\u001b[1;32m      2\u001b[0m \u001b[0mdb\u001b[0m\u001b[0;34m.\u001b[0m\u001b[0mcreate_collection\u001b[0m\u001b[0;34m(\u001b[0m\u001b[0;34m\"ProteinStructure\"\u001b[0m\u001b[0;34m)\u001b[0m\u001b[0;34m\u001b[0m\u001b[0;34m\u001b[0m\u001b[0m\n\u001b[1;32m      3\u001b[0m \u001b[0mdb\u001b[0m\u001b[0;34m.\u001b[0m\u001b[0mcreate_collection\u001b[0m\u001b[0;34m(\u001b[0m\u001b[0;34m\"ExperimentalTechnique\"\u001b[0m\u001b[0;34m)\u001b[0m\u001b[0;34m\u001b[0m\u001b[0;34m\u001b[0m\u001b[0m\n",
      "\u001b[0;32m~/.local/lib/python3.8/site-packages/pymongo/_csot.py\u001b[0m in \u001b[0;36mcsot_wrapper\u001b[0;34m(self, *args, **kwargs)\u001b[0m\n\u001b[1;32m    103\u001b[0m                 \u001b[0;32mwith\u001b[0m \u001b[0m_TimeoutContext\u001b[0m\u001b[0;34m(\u001b[0m\u001b[0mtimeout\u001b[0m\u001b[0;34m)\u001b[0m\u001b[0;34m:\u001b[0m\u001b[0;34m\u001b[0m\u001b[0;34m\u001b[0m\u001b[0m\n\u001b[1;32m    104\u001b[0m                     \u001b[0;32mreturn\u001b[0m \u001b[0mfunc\u001b[0m\u001b[0;34m(\u001b[0m\u001b[0mself\u001b[0m\u001b[0;34m,\u001b[0m \u001b[0;34m*\u001b[0m\u001b[0margs\u001b[0m\u001b[0;34m,\u001b[0m \u001b[0;34m**\u001b[0m\u001b[0mkwargs\u001b[0m\u001b[0;34m)\u001b[0m\u001b[0;34m\u001b[0m\u001b[0;34m\u001b[0m\u001b[0m\n\u001b[0;32m--> 105\u001b[0;31m         \u001b[0;32mreturn\u001b[0m \u001b[0mfunc\u001b[0m\u001b[0;34m(\u001b[0m\u001b[0mself\u001b[0m\u001b[0;34m,\u001b[0m \u001b[0;34m*\u001b[0m\u001b[0margs\u001b[0m\u001b[0;34m,\u001b[0m \u001b[0;34m**\u001b[0m\u001b[0mkwargs\u001b[0m\u001b[0;34m)\u001b[0m\u001b[0;34m\u001b[0m\u001b[0;34m\u001b[0m\u001b[0m\n\u001b[0m\u001b[1;32m    106\u001b[0m \u001b[0;34m\u001b[0m\u001b[0m\n\u001b[1;32m    107\u001b[0m     \u001b[0;32mreturn\u001b[0m \u001b[0mcast\u001b[0m\u001b[0;34m(\u001b[0m\u001b[0mF\u001b[0m\u001b[0;34m,\u001b[0m \u001b[0mcsot_wrapper\u001b[0m\u001b[0;34m)\u001b[0m\u001b[0;34m\u001b[0m\u001b[0;34m\u001b[0m\u001b[0m\n",
      "\u001b[0;32m~/.local/lib/python3.8/site-packages/pymongo/database.py\u001b[0m in \u001b[0;36mcreate_collection\u001b[0;34m(self, name, codec_options, read_preference, write_concern, read_concern, session, check_exists, **kwargs)\u001b[0m\n\u001b[1;32m    445\u001b[0m                 \u001b[0;32mand\u001b[0m \u001b[0mname\u001b[0m \u001b[0;32min\u001b[0m \u001b[0mself\u001b[0m\u001b[0;34m.\u001b[0m\u001b[0mlist_collection_names\u001b[0m\u001b[0;34m(\u001b[0m\u001b[0mfilter\u001b[0m\u001b[0;34m=\u001b[0m\u001b[0;34m{\u001b[0m\u001b[0;34m\"name\"\u001b[0m\u001b[0;34m:\u001b[0m \u001b[0mname\u001b[0m\u001b[0;34m}\u001b[0m\u001b[0;34m,\u001b[0m \u001b[0msession\u001b[0m\u001b[0;34m=\u001b[0m\u001b[0ms\u001b[0m\u001b[0;34m)\u001b[0m\u001b[0;34m\u001b[0m\u001b[0;34m\u001b[0m\u001b[0m\n\u001b[1;32m    446\u001b[0m             ):\n\u001b[0;32m--> 447\u001b[0;31m                 \u001b[0;32mraise\u001b[0m \u001b[0mCollectionInvalid\u001b[0m\u001b[0;34m(\u001b[0m\u001b[0;34m\"collection %s already exists\"\u001b[0m \u001b[0;34m%\u001b[0m \u001b[0mname\u001b[0m\u001b[0;34m)\u001b[0m\u001b[0;34m\u001b[0m\u001b[0;34m\u001b[0m\u001b[0m\n\u001b[0m\u001b[1;32m    448\u001b[0m             return Collection(\n\u001b[1;32m    449\u001b[0m                 \u001b[0mself\u001b[0m\u001b[0;34m,\u001b[0m\u001b[0;34m\u001b[0m\u001b[0;34m\u001b[0m\u001b[0m\n",
      "\u001b[0;31mCollectionInvalid\u001b[0m: collection CrystallizationMethod already exists"
     ]
    }
   ],
   "source": [
    "# db.create_collection(\"CrystallizationMethod\")\n",
    "# db.create_collection(\"ProteinStructure\")\n",
    "# db.create_collection(\"ExperimentalTechnique\")"
   ]
  },
  {
   "cell_type": "code",
   "execution_count": 10,
   "metadata": {},
   "outputs": [],
   "source": [
    "import csv\n",
    "import pymongo"
   ]
  },
  {
   "cell_type": "code",
   "execution_count": 11,
   "metadata": {},
   "outputs": [],
   "source": [
    "# create a MongoDB client\n",
    "client = pymongo.MongoClient(\"mongodb://localhost:27017/\")\n"
   ]
  },
  {
   "cell_type": "code",
   "execution_count": null,
   "metadata": {},
   "outputs": [],
   "source": [
    "# db = client[\"Protein\"]\n",
    "# CrystallizationMethod_collection = db[\"CrystallizationMethod\"]\n",
    "# ProteinStructure_collection = db[\"ProteinStructure\"]\n",
    "# ExperimentalTechnique_collection = db[\"ExperimentalTechnique\"]"
   ]
  },
  {
   "cell_type": "code",
   "execution_count": 12,
   "metadata": {},
   "outputs": [],
   "source": [
    "database = client['Protein']\n",
    "protein_structure_collection = database['protein_structure']\n",
    "experimental_technique_collection = database['experimental_technique']\n",
    "crystallization_method_collection = database['crystallization_metho']"
   ]
  },
  {
   "cell_type": "code",
   "execution_count": 13,
   "metadata": {},
   "outputs": [],
   "source": [
    "import csv\n",
    "from pymongo import MongoClient\n",
    "\n",
    "# Connect to MongoDB\n",
    "client = pymongo.MongoClient(\"mongodb://localhost:27017/\")\n",
    "db = client['Protein']\n",
    "\n",
    "# Open the CSV file\n",
    "with open('Data.csv', 'r') as csvfile:\n",
    "    reader = csv.DictReader(csvfile)\n",
    "\n",
    "    # Iterate over each row in the CSV file\n",
    "    for row in reader:\n",
    "        # Create the protein structure document\n",
    "        protein_structure = {\n",
    "           \n",
    "            \"structureId\": row['structureId']  ,\n",
    "            \"classification\": row['classification'] if row['classification'] else None , \n",
    "            \"macromoleculeType\": row['macromoleculeType'] if row['macromoleculeType'] else None ,\n",
    "            \"residueCount\": int(row['residueCount']) if row['residueCount'] else None ,\n",
    "            \"resolution\": float(row['resolution']) if row['resolution'] else None ,\n",
    "            \"structureMolecularWeight\": float(row['structureMolecularWeight']) if row['structureMolecularWeight'] else None ,\n",
    "            \"crystallizationMethodId\": int(row['_id']) ,\n",
    "            \"experimentalTechniqueId\": int(row['_id']) ,\n",
    "            \"densityMatthews\": float(row['densityMatthews']) if row['densityMatthews'] else None ,\n",
    "            \"densityPercentSol\": float(row['densityPercentSol']) if row['densityPercentSol'] else None,\n",
    "            \"pdbxDetails\": row['pdbxDetails'] if row['pdbxDetails'] else None ,\n",
    "            \"phValue\": float(row['phValue']) if row['phValue'] else None ,\n",
    "            \"publicationYear\": int(row['publicationYear']) if row['publicationYear'] else None \n",
    "        }\n",
    "\n",
    "        # Save the protein structure document in the collection\n",
    "        db.protein_structure.insert_one(protein_structure)\n",
    "        \n",
    "\n",
    "\n",
    "        # Create the experimental technique document\n",
    "        experimental_technique = {\n",
    "            \"structureId\": row['structureId']  ,\n",
    "          \"experimentalTechniqueId\": int(row['_id']) ,\n",
    "            \"experimentalTechniqueName\": row['experimentalTechniqueName'] if row['experimentalTechniqueName'] else None\n",
    "        }\n",
    "\n",
    "        # Save the experimental technique document in the collection\n",
    "        db.experimental_technique.insert_one(experimental_technique)\n",
    "\n",
    "        # Create the crystallization method document\n",
    "        crystallization_method = {\n",
    "           \"structureId\": row['structureId'] ,\n",
    "            \"crystallizationMethodId\": int(row['_id'])  ,\n",
    "            \"crystallizationMethodName\": row['crystallizationMethodName'] if row['crystallizationMethodName'] else None , \n",
    "            \"crystallizationTemperatureK\": float(row['crystallizationTempK']) if row['crystallizationTempK'] else None\n",
    "        }\n",
    "\n",
    "\n",
    "\n",
    "\n",
    "\n",
    "        # Save the crystallization method document in the collection\n",
    "        db.crystallization_method.insert_one(crystallization_method)\n"
   ]
  },
  {
   "cell_type": "code",
   "execution_count": 15,
   "metadata": {},
   "outputs": [
    {
     "name": "stdout",
     "output_type": "stream",
     "text": [
      "Requirement already satisfied: flask in /home/marwa/.local/lib/python3.8/site-packages (2.3.2)\n",
      "Requirement already satisfied: importlib-metadata>=3.6.0; python_version < \"3.10\" in /home/marwa/.local/lib/python3.8/site-packages (from flask) (6.6.0)\n",
      "Requirement already satisfied: blinker>=1.6.2 in /home/marwa/.local/lib/python3.8/site-packages (from flask) (1.6.2)\n",
      "Requirement already satisfied: Werkzeug>=2.3.3 in /home/marwa/.local/lib/python3.8/site-packages (from flask) (2.3.4)\n",
      "Requirement already satisfied: click>=8.1.3 in /home/marwa/.local/lib/python3.8/site-packages (from flask) (8.1.3)\n",
      "Requirement already satisfied: itsdangerous>=2.1.2 in /home/marwa/.local/lib/python3.8/site-packages (from flask) (2.1.2)\n",
      "Requirement already satisfied: Jinja2>=3.1.2 in /home/marwa/.local/lib/python3.8/site-packages (from flask) (3.1.2)\n",
      "Requirement already satisfied: zipp>=0.5 in /usr/lib/python3/dist-packages (from importlib-metadata>=3.6.0; python_version < \"3.10\"->flask) (1.0.0)\n",
      "Requirement already satisfied: MarkupSafe>=2.1.1 in /home/marwa/.local/lib/python3.8/site-packages (from Werkzeug>=2.3.3->flask) (2.1.2)\n"
     ]
    }
   ],
   "source": [
    "! pip install flask\n"
   ]
  },
  {
   "cell_type": "code",
   "execution_count": 17,
   "metadata": {},
   "outputs": [
    {
     "name": "stdout",
     "output_type": "stream",
     "text": [
      " * Serving Flask app '__main__'\n",
      " * Debug mode: on\n"
     ]
    },
    {
     "name": "stderr",
     "output_type": "stream",
     "text": [
      "WARNING: This is a development server. Do not use it in a production deployment. Use a production WSGI server instead.\n",
      " * Running on http://127.0.0.1:5000\n",
      "Press CTRL+C to quit\n",
      " * Restarting with stat\n"
     ]
    },
    {
     "ename": "SystemExit",
     "evalue": "1",
     "output_type": "error",
     "traceback": [
      "An exception has occurred, use %tb to see the full traceback.\n",
      "\u001b[0;31mSystemExit\u001b[0m\u001b[0;31m:\u001b[0m 1\n"
     ]
    },
    {
     "name": "stderr",
     "output_type": "stream",
     "text": [
      "/usr/lib/python3/dist-packages/IPython/core/interactiveshell.py:3339: UserWarning: To exit: use 'exit', 'quit', or Ctrl-D.\n",
      "  warn(\"To exit: use 'exit', 'quit', or Ctrl-D.\", stacklevel=1)\n"
     ]
    }
   ],
   "source": [
    "from flask import Flask, render_template, request\n",
    "from pymongo import MongoClient\n",
    "\n",
    "app = Flask(__name__)\n",
    "\n",
    "client = pymongo.MongoClient(\"mongodb://localhost:27017/\")\n",
    "db = client['Protein']\n",
    "\n",
    "# Define your routes and database operations here\n",
    "\n",
    "\n",
    "if __name__ == '__main__':\n",
    "    app.run(debug=True)\n",
    "\n"
   ]
  },
  {
   "cell_type": "code",
   "execution_count": null,
   "metadata": {},
   "outputs": [],
   "source": [
    "@app.route('/')\n",
    "def home():\n",
    "    return render_template('index.html')\n",
    "\n",
    "\n",
    "@app.route('/proteins')\n",
    "def proteins():\n",
    "    collection = db[\"proteins\"]  # Replace with your collection name\n",
    "    results = collection.find()\n",
    "    return render_template('proteins.html', proteins=results)\n",
    "\n",
    "\n",
    "@app.route('/experimental-techniques')\n",
    "def experimental_techniques():\n",
    "    collection = db[\"experimental_techniques\"]  # Replace with your collection name\n",
    "    results = collection.find()\n",
    "    return render_template('experimental_techniques.html', techniques=results)\n",
    "\n",
    "\n",
    "@app.route('/crystallization-methods')\n",
    "def crystallization_methods():\n",
    "    collection = db[\"crystallization_methods\"]  # Replace with your collection name\n",
    "    results = collection.find()\n",
    "    return render_template('crystallization_methods.html', methods=results)\n"
   ]
  }
 ],
 "metadata": {
  "kernelspec": {
   "display_name": "Python 3",
   "language": "python",
   "name": "python3"
  },
  "language_info": {
   "codemirror_mode": {
    "name": "ipython",
    "version": 3
   },
   "file_extension": ".py",
   "mimetype": "text/x-python",
   "name": "python",
   "nbconvert_exporter": "python",
   "pygments_lexer": "ipython3",
   "version": "3.8.10"
  },
  "orig_nbformat": 4
 },
 "nbformat": 4,
 "nbformat_minor": 2
}
