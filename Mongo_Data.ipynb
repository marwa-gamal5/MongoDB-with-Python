{
 "cells": [
  {
   "cell_type": "code",
   "execution_count": 1,
   "metadata": {},
   "outputs": [],
   "source": [
    "from pymongo import MongoClient\n",
    "\n",
    "#by default we connected to localhost and 27017 \n",
    "#To check it when you write mongo in terminal \n",
    "#It brings \n",
    "#MongoDB shell version v3.6.8\n",
    "#connecting to: mongodb://127.0.0.1:27017\n",
    "#So we connect to localhost and 27017  (localhost is 127.0.0.1)\n",
    "client = MongoClient('localhost', 27017) # replace 'localhost' with your MongoDB server address"
   ]
  },
  {
   "cell_type": "code",
   "execution_count": 2,
   "metadata": {},
   "outputs": [],
   "source": [
    "client = MongoClient()\n",
    "db = client['Cancer']"
   ]
  },
  {
   "cell_type": "code",
   "execution_count": 3,
   "metadata": {},
   "outputs": [],
   "source": [
    "Patients  = db.Patients  #Select the collection name\n",
    "Tumor_Information= db.Tumor_Information\n",
    "Treatment_Information=db.Treatment_Information"
   ]
  },
  {
   "cell_type": "code",
   "execution_count": 5,
   "metadata": {},
   "outputs": [],
   "source": [
    "import csv"
   ]
  },
  {
   "cell_type": "code",
   "execution_count": 7,
   "metadata": {},
   "outputs": [],
   "source": [
    "# Open the CSV file\n",
    "with open('METABRIC_RNA_Mutationn.csv', 'r') as csvfile:\n",
    "    reader = csv.DictReader(csvfile)\n",
    "    loop_count = 0\n",
    "\n",
    "    # Iterate over each row in the CSV file\n",
    "    for row in reader:\n",
    "        # Create the patient document\n",
    "        patient = {\n",
    "\n",
    "            \"patient_id\": row['patient_id'] ,\n",
    "            \"age_at_diagnosis\": float(row['age_at_diagnosis']) if row['age_at_diagnosis'] else None ,\n",
    "            \"inferred_menopausal_state\": row['inferred_menopausal_state'] if row['inferred_menopausal_state'] else None ,\n",
    "            \"death_from_cancer\": row['death_from_cancer'] if row['death_from_cancer'] else None ,\n",
    "            \"overall_survival\": int(row['overall_survival']) if row['overall_survival'] else None \n",
    "            }\n",
    "           \n",
    "            \n",
    "\n",
    "        # Save the patient document in the collection\n",
    "        db.Patients.insert_one(patient)\n",
    "        \n",
    "\n",
    "\n",
    "        # Create the TumorInformation document\n",
    "        TumorInformation = {\n",
    "\n",
    "            \"patient_id\": row['patient_id'] ,\n",
    "            \"cancer_type\": row['cancer_type'] if row['cancer_type'] else None ,\n",
    "            \"cellularity\": row['cellularity'] if row['cellularity'] else None ,\n",
    "            \"primary_tumor_laterality\": row['primary_tumor_laterality'] if row['primary_tumor_laterality'] else None ,\n",
    "            \"mutation_count\": int(row['mutation_count']) if row['mutation_count'] else None ,\n",
    "            \"tumor_size\": int(row['tumor_size']) if row['tumor_size'] else None ,\n",
    "            \"tumor_stage\": row['tumor_stage'] if row['tumor_stage'] else None \n",
    "\n",
    "         \n",
    "        }\n",
    "\n",
    "        # Save the TumorInformation document in the collection\n",
    "        db.Tumor_Information.insert_one(TumorInformation)\n",
    "\n",
    "        # Create the TreatmentInformation document\n",
    "        TreatmentInformation = {\n",
    "\n",
    "           \n",
    "            \"patient_id\": row['patient_id'] ,\n",
    "            \"type_of_breast_surgery\": row['type_of_breast_surgery'] if row['type_of_breast_surgery'] else None ,\n",
    "            \"chemotherapy\": row['chemotherapy'] if row['chemotherapy'] else None ,\n",
    "            \"er_status_measured_by_ihc\": row['er_status_measured_by_ihc'] if row['er_status_measured_by_ihc'] else None ,\n",
    "            \"hormone_therapy\": row['hormone_therapy'] if row['hormone_therapy'] else None ,\n",
    "            \"pr_status\": row['pr_status'] if row['pr_status'] else None ,\n",
    "            \"radio_therapy\": row['radio_therapy'] if row['radio_therapy'] else None \n",
    "          }\n",
    "\n",
    "\n",
    "\n",
    "\n",
    "\n",
    "        # Save the TreatmentInformation document in the collection\n",
    "        db.Treatment_Information.insert_one(TreatmentInformation)\n",
    "\n",
    "        loop_count += 1\n",
    "        if loop_count >= 100:\n",
    "            break\n",
    "\n",
    "  \n",
    "  "
   ]
  },
  {
   "cell_type": "code",
   "execution_count": null,
   "metadata": {},
   "outputs": [],
   "source": []
  }
 ],
 "metadata": {
  "kernelspec": {
   "display_name": "Python 3",
   "language": "python",
   "name": "python3"
  },
  "language_info": {
   "codemirror_mode": {
    "name": "ipython",
    "version": 3
   },
   "file_extension": ".py",
   "mimetype": "text/x-python",
   "name": "python",
   "nbconvert_exporter": "python",
   "pygments_lexer": "ipython3",
   "version": "3.8.5"
  },
  "orig_nbformat": 4
 },
 "nbformat": 4,
 "nbformat_minor": 2
}
