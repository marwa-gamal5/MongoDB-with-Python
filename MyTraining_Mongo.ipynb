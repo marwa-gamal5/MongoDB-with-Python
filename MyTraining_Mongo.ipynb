{
 "cells": [
  {
   "cell_type": "code",
   "execution_count": 1,
   "metadata": {},
   "outputs": [],
   "source": [
    "from pymongo import MongoClient\n",
    "\n",
    "#by default we connected to localhost and 27017 \n",
    "#To check it when you write mongo in terminal \n",
    "#It brings \n",
    "#MongoDB shell version v3.6.8\n",
    "#connecting to: mongodb://127.0.0.1:27017\n",
    "#So we connect to localhost and 27017  (localhost is 127.0.0.1)\n",
    "client = MongoClient('localhost', 27017) # replace 'localhost' with your MongoDB server address"
   ]
  },
  {
   "cell_type": "code",
   "execution_count": 2,
   "metadata": {},
   "outputs": [],
   "source": [
    "client = MongoClient()\n",
    "db = client['Protein']"
   ]
  },
  {
   "cell_type": "code",
   "execution_count": 3,
   "metadata": {},
   "outputs": [],
   "source": [
    "#db.create_collection(\"CrystallizationMethod\")\n",
    "#db.create_collection(\"ProteinStructure\")\n",
    "#db.create_collection(\"ExperimentalTechnique\")\n",
    "\n",
    "CrystallizationMethod = db.CrystallizationMethod #Select the collection name\n",
    "ProteinStructure= db.ProteinStructure\n",
    "ExperimentalTechnique=db.ExperimentalTechnique"
   ]
  },
  {
   "cell_type": "code",
   "execution_count": 4,
   "metadata": {},
   "outputs": [],
   "source": [
    "\n",
    "import csv"
   ]
  },
  {
   "cell_type": "code",
   "execution_count": 5,
   "metadata": {},
   "outputs": [],
   "source": [
    "# Open the CSV file\n",
    "with open('Data.csv', 'r') as csvfile:\n",
    "    reader = csv.DictReader(csvfile)\n",
    "    loop_count = 0\n",
    "\n",
    "    # Iterate over each row in the CSV file\n",
    "    for row in reader:\n",
    "        # Create the protein structure document\n",
    "        protein_structure = {\n",
    "           \n",
    "            \"structureId\": row['structureId'] if row['structureId'] else None ,\n",
    "            \"classification\": row['classification'] if row['classification'] else None , \n",
    "            \"macromoleculeType\": row['macromoleculeType'] if row['macromoleculeType'] else None ,\n",
    "            \"residueCount\": int(row['residueCount']) if row['residueCount'] else None ,\n",
    "            \"resolution\": float(row['resolution']) if row['resolution'] else None ,\n",
    "            \"structureMolecularWeight\": float(row['structureMolecularWeight']) if row['structureMolecularWeight'] else None ,\n",
    "            \"crystallizationMethodId\": int(row['_id']) ,\n",
    "            \"experimentalTechniqueId\": int(row['_id']) ,\n",
    "            \"densityMatthews\": float(row['densityMatthews']) if row['densityMatthews'] else None ,\n",
    "            \"densityPercentSol\": float(row['densityPercentSol']) if row['densityPercentSol'] else None,\n",
    "            \"pdbxDetails\": row['pdbxDetails'] if row['pdbxDetails'] else None ,\n",
    "            \"phValue\": float(row['phValue']) if row['phValue'] else None ,\n",
    "            \"publicationYear\": int(row['publicationYear']) if row['publicationYear'] else None \n",
    "        }\n",
    "\n",
    "        # Save the protein structure document in the collection\n",
    "        db.ProteinStructure.insert_one(protein_structure)\n",
    "        \n",
    "\n",
    "\n",
    "        # Create the experimental technique document\n",
    "        experimental_technique = {\n",
    "          \"experimentalTechniqueId\": int(row['_id']) ,\n",
    "            \"experimentalTechniqueName\": row['experimentalTechniqueName'] if row['experimentalTechniqueName'] else None\n",
    "        }\n",
    "\n",
    "        # Save the experimental technique document in the collection\n",
    "        db.ExperimentalTechnique.insert_one(experimental_technique)\n",
    "\n",
    "        # Create the crystallization method document\n",
    "        crystallization_method = {\n",
    "           \n",
    "            \"crystallizationMethodId\": int(row['_id'])  ,\n",
    "            \"crystallizationMethodName\": row['crystallizationMethodName'] if row['crystallizationMethodName'] else None , \n",
    "            \"crystallizationTemperatureK\": float(row['crystallizationTempK']) if row['crystallizationTempK'] else None\n",
    "        }\n",
    "\n",
    "\n",
    "\n",
    "\n",
    "\n",
    "        # Save the crystallization method document in the collection\n",
    "        db.CrystallizationMethod.insert_one(crystallization_method)\n",
    "\n",
    "        loop_count += 1\n",
    "        if loop_count >= 100:\n",
    "            break\n",
    "\n",
    "  \n",
    "  "
   ]
  },
  {
   "cell_type": "code",
   "execution_count": 3,
   "metadata": {},
   "outputs": [
    {
     "name": "stdout",
     "output_type": "stream",
     "text": [
      "{'_id': ObjectId('646b1d79411710ad86feae5b'), 'structureId': '110D', 'classification': 'DNA', 'macromoleculeType': 'DNA', 'residueCount': 6, 'resolution': 1.9, 'structureMolecularWeight': 2337.73, 'crystallizationMethodId': 28, 'experimentalTechniqueId': 28, 'densityMatthews': 2.9, 'densityPercentSol': 57.63, 'pdbxDetails': 'pH 6.60, VAPOR DIFFUSION, SITTING DROP, temperature 277.00K', 'phValue': 6.6, 'publicationYear': 1993}\n",
      "{'_id': ObjectId('646b1d7a411710ad86feae94'), 'structureId': '118D', 'classification': 'DNA', 'macromoleculeType': 'DNA', 'residueCount': 8, 'resolution': 1.64, 'structureMolecularWeight': 2427.6, 'crystallizationMethodId': 47, 'experimentalTechniqueId': 47, 'densityMatthews': 2.3, 'densityPercentSol': 46.55, 'pdbxDetails': 'pH 6.50, VAPOR DIFFUSION', 'phValue': 6.5, 'publicationYear': 1992}\n",
      "{'_id': ObjectId('646b1d7a411710ad86feaf1b'), 'structureId': '138D', 'classification': 'DNA', 'macromoleculeType': 'DNA', 'residueCount': 10, 'resolution': 1.8, 'structureMolecularWeight': 3046.98, 'crystallizationMethodId': 92, 'experimentalTechniqueId': 92, 'densityMatthews': 2.87, 'densityPercentSol': 57.15, 'pdbxDetails': 'pH 7.00, VAPOR DIFFUSION, HANGING DROP', 'phValue': 7.0, 'publicationYear': 1993}\n",
      "{'_id': ObjectId('646b1d79411710ad86feae2e'), 'structureId': '105D', 'classification': 'DNA', 'macromoleculeType': 'DNA', 'residueCount': 12, 'resolution': None, 'structureMolecularWeight': 3350.4, 'crystallizationMethodId': 13, 'experimentalTechniqueId': 13, 'densityMatthews': None, 'densityPercentSol': None, 'pdbxDetails': None, 'phValue': None, 'publicationYear': 1995}\n",
      "{'_id': ObjectId('646b1d79411710ad86feae34'), 'structureId': '106D', 'classification': 'DNA', 'macromoleculeType': 'DNA', 'residueCount': 12, 'resolution': None, 'structureMolecularWeight': 3086.58, 'crystallizationMethodId': 15, 'experimentalTechniqueId': 15, 'densityMatthews': None, 'densityPercentSol': None, 'pdbxDetails': None, 'phValue': None, 'publicationYear': 1995}\n",
      "{'_id': ObjectId('646b1d7a411710ad86feae88'), 'structureId': '116D', 'classification': 'DNA', 'macromoleculeType': 'DNA', 'residueCount': 12, 'resolution': 2.5, 'structureMolecularWeight': 3663.39, 'crystallizationMethodId': 43, 'experimentalTechniqueId': 43, 'densityMatthews': 3.01, 'densityPercentSol': 59.09, 'pdbxDetails': 'pH 6.50, VAPOR DIFFUSION', 'phValue': 6.5, 'publicationYear': 1992}\n",
      "{'_id': ObjectId('646b1d7a411710ad86feae8e'), 'structureId': '117D', 'classification': 'DNA', 'macromoleculeType': 'DNA', 'residueCount': 12, 'resolution': 2.55, 'structureMolecularWeight': 3663.39, 'crystallizationMethodId': 45, 'experimentalTechniqueId': 45, 'densityMatthews': 3.01, 'densityPercentSol': 59.09, 'pdbxDetails': 'pH 6.50, VAPOR DIFFUSION, temperature 277.00K', 'phValue': 6.5, 'publicationYear': 1992}\n",
      "{'_id': ObjectId('646b1d7a411710ad86feaef4'), 'structureId': '131D', 'classification': 'DNA', 'macromoleculeType': 'DNA', 'residueCount': 12, 'resolution': 1.0, 'structureMolecularWeight': 4071.07, 'crystallizationMethodId': 79, 'experimentalTechniqueId': 79, 'densityMatthews': 1.64, 'densityPercentSol': 25.16, 'pdbxDetails': 'pH 7.00, VAPOR DIFFUSION, SITTING DROP', 'phValue': 7.0, 'publicationYear': 1994}\n",
      "{'_id': ObjectId('646b1d7a411710ad86feaf00'), 'structureId': '133D', 'classification': 'DNA', 'macromoleculeType': 'DNA', 'residueCount': 12, 'resolution': 1.8, 'structureMolecularWeight': 3648.46, 'crystallizationMethodId': 83, 'experimentalTechniqueId': 83, 'densityMatthews': 1.7, 'densityPercentSol': 27.51, 'pdbxDetails': 'pH 6.50, VAPOR DIFFUSION, temperature 277.00K', 'phValue': 6.5, 'publicationYear': 1993}\n",
      "{'_id': ObjectId('646b1d79411710ad86feae3a'), 'structureId': '107D', 'classification': 'DNA', 'macromoleculeType': 'DNA', 'residueCount': 14, 'resolution': None, 'structureMolecularWeight': 4744.35, 'crystallizationMethodId': 17, 'experimentalTechniqueId': 17, 'densityMatthews': None, 'densityPercentSol': None, 'pdbxDetails': None, 'phValue': None, 'publicationYear': 1995}\n",
      "{'_id': ObjectId('646b1d79411710ad86feae43'), 'structureId': '108D', 'classification': 'DNA', 'macromoleculeType': 'DNA', 'residueCount': 16, 'resolution': None, 'structureMolecularWeight': 5650.37, 'crystallizationMethodId': 20, 'experimentalTechniqueId': 20, 'densityMatthews': None, 'densityPercentSol': None, 'pdbxDetails': None, 'phValue': None, 'publicationYear': 1995}\n",
      "{'_id': ObjectId('646b1d79411710ad86feae82'), 'structureId': '115D', 'classification': 'DNA', 'macromoleculeType': 'DNA', 'residueCount': 16, 'resolution': 1.7, 'structureMolecularWeight': 5112.71, 'crystallizationMethodId': 41, 'experimentalTechniqueId': 41, 'densityMatthews': 2.39, 'densityPercentSol': 48.62, 'pdbxDetails': 'pH 7.00, VAPOR DIFFUSION', 'phValue': 7.0, 'publicationYear': 1986}\n",
      "{'_id': ObjectId('646b1d7a411710ad86feaeb5'), 'structureId': '122D', 'classification': 'DNA', 'macromoleculeType': 'DNA', 'residueCount': 20, 'resolution': 1.7, 'structureMolecularWeight': 6120.04, 'crystallizationMethodId': 58, 'experimentalTechniqueId': 58, 'densityMatthews': 2.34, 'densityPercentSol': 47.49, 'pdbxDetails': 'pH 7.50, MICRODIALYSIS, temperature 277.00K', 'phValue': 7.5, 'publicationYear': 1993}\n",
      "{'_id': ObjectId('646b1d7a411710ad86feaebb'), 'structureId': '123D', 'classification': 'DNA', 'macromoleculeType': 'DNA', 'residueCount': 20, 'resolution': 1.7, 'structureMolecularWeight': 6120.04, 'crystallizationMethodId': 60, 'experimentalTechniqueId': 60, 'densityMatthews': 2.34, 'densityPercentSol': 47.49, 'pdbxDetails': 'pH 7.50, MICRODIALYSIS, temperature 277.00K', 'phValue': 7.5, 'publicationYear': 1993}\n",
      "{'_id': ObjectId('646b1d7a411710ad86feaeca'), 'structureId': '126D', 'classification': 'DNA', 'macromoleculeType': 'DNA', 'residueCount': 20, 'resolution': 2.0, 'structureMolecularWeight': 6090.01, 'crystallizationMethodId': 65, 'experimentalTechniqueId': 65, 'densityMatthews': 2.21, 'densityPercentSol': 44.46, 'pdbxDetails': 'VAPOR DIFFUSION, SITTING DROP, temperature 278.00K', 'phValue': None, 'publicationYear': 1993}\n",
      "{'_id': ObjectId('646b1d7a411710ad86feaf15'), 'structureId': '137D', 'classification': 'DNA', 'macromoleculeType': 'DNA', 'residueCount': 20, 'resolution': 1.7, 'structureMolecularWeight': 6093.96, 'crystallizationMethodId': 90, 'experimentalTechniqueId': 90, 'densityMatthews': 2.2, 'densityPercentSol': 44.02, 'pdbxDetails': 'pH 7.00, VAPOR DIFFUSION, HANGING DROP', 'phValue': 7.0, 'publicationYear': 1993}\n",
      "{'_id': ObjectId('646b1d79411710ad86feae0d'), 'structureId': '101D', 'classification': 'DNA', 'macromoleculeType': 'DNA', 'residueCount': 24, 'resolution': 2.25, 'structureMolecularWeight': 7939.35, 'crystallizationMethodId': 2, 'experimentalTechniqueId': 2, 'densityMatthews': 2.0, 'densityPercentSol': 38.45, 'pdbxDetails': None, 'phValue': None, 'publicationYear': 1995}\n",
      "{'_id': ObjectId('646b1d79411710ad86feae13'), 'structureId': '102D', 'classification': 'DNA', 'macromoleculeType': 'DNA', 'residueCount': 24, 'resolution': 2.2, 'structureMolecularWeight': 7637.17, 'crystallizationMethodId': 4, 'experimentalTechniqueId': 4, 'densityMatthews': 2.28, 'densityPercentSol': 46.06, 'pdbxDetails': 'pH 7.00, VAPOR DIFFUSION, SITTING DROP, temperature 277.00K', 'phValue': 7.0, 'publicationYear': 1995}\n",
      "{'_id': ObjectId('646b1d79411710ad86feae1c'), 'structureId': '103D', 'classification': 'DNA', 'macromoleculeType': 'DNA', 'residueCount': 24, 'resolution': None, 'structureMolecularWeight': 7502.93, 'crystallizationMethodId': 7, 'experimentalTechniqueId': 7, 'densityMatthews': None, 'densityPercentSol': None, 'pdbxDetails': None, 'phValue': None, 'publicationYear': 1994}\n",
      "{'_id': ObjectId('646b1d79411710ad86feae4c'), 'structureId': '109D', 'classification': 'DNA', 'macromoleculeType': 'DNA', 'residueCount': 24, 'resolution': 2.0, 'structureMolecularWeight': 7747.53, 'crystallizationMethodId': 23, 'experimentalTechniqueId': 23, 'densityMatthews': 2.23, 'densityPercentSol': 44.88, 'pdbxDetails': None, 'phValue': None, 'publicationYear': 1995}\n",
      "{'_id': ObjectId('646b1d79411710ad86feae64'), 'structureId': '111D', 'classification': 'DNA', 'macromoleculeType': 'DNA', 'residueCount': 24, 'resolution': 2.25, 'structureMolecularWeight': 7374.83, 'crystallizationMethodId': 31, 'experimentalTechniqueId': 31, 'densityMatthews': 2.29, 'densityPercentSol': 46.25, 'pdbxDetails': 'pH 6.60, VAPOR DIFFUSION, SITTING DROP, temperature 277.00K', 'phValue': 6.6, 'publicationYear': 1989}\n",
      "{'_id': ObjectId('646b1d79411710ad86feae6d'), 'structureId': '112D', 'classification': 'DNA', 'macromoleculeType': 'DNA', 'residueCount': 24, 'resolution': 2.5, 'structureMolecularWeight': 7374.83, 'crystallizationMethodId': 34, 'experimentalTechniqueId': 34, 'densityMatthews': 2.38, 'densityPercentSol': 48.37, 'pdbxDetails': 'pH 7.40, VAPOR DIFFUSION, SITTING DROP', 'phValue': 7.4, 'publicationYear': 1986}\n",
      "{'_id': ObjectId('646b1d79411710ad86feae76'), 'structureId': '113D', 'classification': 'DNA', 'macromoleculeType': 'DNA', 'residueCount': 24, 'resolution': 2.5, 'structureMolecularWeight': 7356.81, 'crystallizationMethodId': 37, 'experimentalTechniqueId': 37, 'densityMatthews': 2.35, 'densityPercentSol': 47.59, 'pdbxDetails': 'pH 7.40, VAPOR DIFFUSION, SITTING DROP, temperature 281.00K', 'phValue': 7.4, 'publicationYear': 1987}\n",
      "{'_id': ObjectId('646b1d79411710ad86feae7c'), 'structureId': '114D', 'classification': 'DNA', 'macromoleculeType': 'DNA', 'residueCount': 24, 'resolution': 2.5, 'structureMolecularWeight': 7344.81, 'crystallizationMethodId': 39, 'experimentalTechniqueId': 39, 'densityMatthews': 2.41, 'densityPercentSol': 48.86, 'pdbxDetails': 'pH 7.40, VAPOR DIFFUSION, SITTING DROP', 'phValue': 7.4, 'publicationYear': 1987}\n",
      "{'_id': ObjectId('646b1d7a411710ad86feae9a'), 'structureId': '119D', 'classification': 'DNA', 'macromoleculeType': 'DNA', 'residueCount': 24, 'resolution': 2.25, 'structureMolecularWeight': 7349.11, 'crystallizationMethodId': 49, 'experimentalTechniqueId': 49, 'densityMatthews': 1.98, 'densityPercentSol': 37.95, 'pdbxDetails': 'pH 6.50, VAPOR DIFFUSION, SITTING DROP, temperature 277.00K', 'phValue': 6.5, 'publicationYear': 1993}\n",
      "{'_id': ObjectId('646b1d7a411710ad86feaeaf'), 'structureId': '121D', 'classification': 'DNA', 'macromoleculeType': 'DNA', 'residueCount': 24, 'resolution': 2.2, 'structureMolecularWeight': 7755.27, 'crystallizationMethodId': 56, 'experimentalTechniqueId': 56, 'densityMatthews': 2.4, 'densityPercentSol': 48.83, 'pdbxDetails': 'pH 6.50, VAPOR DIFFUSION', 'phValue': 6.5, 'publicationYear': 1993}\n",
      "{'_id': ObjectId('646b1d7a411710ad86feaed0'), 'structureId': '127D', 'classification': 'DNA', 'macromoleculeType': 'DNA', 'residueCount': 24, 'resolution': 2.0, 'structureMolecularWeight': 7751.28, 'crystallizationMethodId': 67, 'experimentalTechniqueId': 67, 'densityMatthews': 2.31, 'densityPercentSol': 46.72, 'pdbxDetails': 'pH 6.00, VAPOR DIFFUSION', 'phValue': 6.0, 'publicationYear': 1992}\n",
      "{'_id': ObjectId('646b1d7a411710ad86feaed6'), 'structureId': '128D', 'classification': 'DNA', 'macromoleculeType': 'DNA', 'residueCount': 24, 'resolution': 2.5, 'structureMolecularWeight': 7807.39, 'crystallizationMethodId': 69, 'experimentalTechniqueId': 69, 'densityMatthews': 2.4, 'densityPercentSol': 48.81, 'pdbxDetails': 'pH 6.00, VAPOR DIFFUSION', 'phValue': 6.0, 'publicationYear': 1992}\n",
      "{'_id': ObjectId('646b1d7a411710ad86feaedc'), 'structureId': '129D', 'classification': 'DNA', 'macromoleculeType': 'DNA', 'residueCount': 24, 'resolution': 2.25, 'structureMolecularWeight': 7779.33, 'crystallizationMethodId': 71, 'experimentalTechniqueId': 71, 'densityMatthews': 2.39, 'densityPercentSol': 48.54, 'pdbxDetails': 'pH 6.00, VAPOR DIFFUSION', 'phValue': 6.0, 'publicationYear': 1992}\n",
      "{'_id': ObjectId('646b1d7a411710ad86feaeee'), 'structureId': '130D', 'classification': 'DNA', 'macromoleculeType': 'DNA', 'residueCount': 24, 'resolution': 2.5, 'structureMolecularWeight': 7835.44, 'crystallizationMethodId': 77, 'experimentalTechniqueId': 77, 'densityMatthews': 2.41, 'densityPercentSol': 49.03, 'pdbxDetails': 'pH 6.00, VAPOR DIFFUSION', 'phValue': 6.0, 'publicationYear': 1992}\n",
      "{'_id': ObjectId('646b1d7a411710ad86feaefa'), 'structureId': '132D', 'classification': 'DNA', 'macromoleculeType': 'DNA', 'residueCount': 24, 'resolution': None, 'structureMolecularWeight': 7326.78, 'crystallizationMethodId': 81, 'experimentalTechniqueId': 81, 'densityMatthews': None, 'densityPercentSol': None, 'pdbxDetails': None, 'phValue': None, 'publicationYear': 1992}\n",
      "{'_id': ObjectId('646b1d7a411710ad86feaf2d'), 'structureId': '140D', 'classification': 'DNA', 'macromoleculeType': 'DNA', 'residueCount': 26, 'resolution': None, 'structureMolecularWeight': 7943.2, 'crystallizationMethodId': 98, 'experimentalTechniqueId': 98, 'densityMatthews': None, 'densityPercentSol': None, 'pdbxDetails': None, 'phValue': None, 'publicationYear': 1993}\n",
      "{'_id': ObjectId('646b1d7a411710ad86feaf33'), 'structureId': '141D', 'classification': 'DNA', 'macromoleculeType': 'DNA', 'residueCount': 26, 'resolution': None, 'structureMolecularWeight': 7943.2, 'crystallizationMethodId': 100, 'experimentalTechniqueId': 100, 'densityMatthews': None, 'densityPercentSol': None, 'pdbxDetails': None, 'phValue': None, 'publicationYear': 1993}\n",
      "{'_id': ObjectId('646b1d7a411710ad86feaf21'), 'structureId': '139D', 'classification': 'DNA', 'macromoleculeType': 'DNA', 'residueCount': 28, 'resolution': None, 'structureMolecularWeight': 8737.78, 'crystallizationMethodId': 94, 'experimentalTechniqueId': 94, 'densityMatthews': None, 'densityPercentSol': None, 'pdbxDetails': None, 'phValue': None, 'publicationYear': 1993}\n",
      "{'_id': ObjectId('646b1d7a411710ad86feaf06'), 'structureId': '134D', 'classification': 'DNA', 'macromoleculeType': 'DNA', 'residueCount': 31, 'resolution': None, 'structureMolecularWeight': 9552.12, 'crystallizationMethodId': 85, 'experimentalTechniqueId': 85, 'densityMatthews': None, 'densityPercentSol': None, 'pdbxDetails': None, 'phValue': None, 'publicationYear': 1993}\n",
      "{'_id': ObjectId('646b1d7a411710ad86feaf0c'), 'structureId': '135D', 'classification': 'DNA', 'macromoleculeType': 'DNA', 'residueCount': 31, 'resolution': None, 'structureMolecularWeight': 9552.12, 'crystallizationMethodId': 87, 'experimentalTechniqueId': 87, 'densityMatthews': None, 'densityPercentSol': None, 'pdbxDetails': None, 'phValue': None, 'publicationYear': 1993}\n",
      "{'_id': ObjectId('646b1d7a411710ad86feaf12'), 'structureId': '136D', 'classification': 'DNA', 'macromoleculeType': 'DNA', 'residueCount': 31, 'resolution': None, 'structureMolecularWeight': 9552.12, 'crystallizationMethodId': 89, 'experimentalTechniqueId': 89, 'densityMatthews': None, 'densityPercentSol': None, 'pdbxDetails': None, 'phValue': None, 'publicationYear': 1993}\n"
     ]
    }
   ],
   "source": [
    "from pymongo import MongoClient\n",
    "#from tkinter import messagebox\n",
    "from pymongo import DESCENDING, ASCENDING\n",
    "\n",
    "# Connect to MongoDB\n",
    "client = MongoClient(\"mongodb://localhost:27017\")\n",
    "db = client[\"Protein\"]\n",
    "\n",
    "CrystallizationMethod = db.CrystallizationMethod #Select the collection name\n",
    "ProteinStructure= db.ProteinStructure\n",
    "ExperimentalTechnique=db.ExperimentalTechnique\n",
    "\n",
    "query = 'macromoleculeType,DNA,residueCount,1'\n",
    "    \n",
    "list_query = query.split(\",\")\n",
    "    \n",
    "idx = None\n",
    "\n",
    "if list_query[3]=='1':\n",
    "   idx = ASCENDING\n",
    "elif list_query[3]=='-1':\n",
    "   idx =  DESCENDING \n",
    "\n",
    "pipeline = [\n",
    "   {\n",
    "      \"$match\": {\n",
    "         list_query[0]:list_query[1]\n",
    "      }\n",
    "   }, \n",
    "   {\n",
    "      \"$sort\": {\n",
    "         list_query[2]:idx\n",
    "      }\n",
    "   }\n",
    "    ]\n",
    "\n",
    "    \n",
    "results = ProteinStructure.aggregate(pipeline)\n",
    "\n",
    "for value in results:\n",
    "   print(value)\n",
    "\n",
    "    #collection = db[collection_name]"
   ]
  },
  {
   "cell_type": "code",
   "execution_count": 2,
   "metadata": {},
   "outputs": [
    {
     "name": "stdout",
     "output_type": "stream",
     "text": [
      "admin\n",
      "config\n",
      "faculty\n",
      "first\n",
      "local\n",
      "quiz\n"
     ]
    }
   ],
   "source": [
    "dbs = client.list_database_names()\n",
    "for name in dbs:\n",
    "    print(name)"
   ]
  },
  {
   "cell_type": "code",
   "execution_count": 3,
   "metadata": {},
   "outputs": [
    {
     "name": "stdout",
     "output_type": "stream",
     "text": [
      "student\n",
      "info\n"
     ]
    }
   ],
   "source": [
    "db = client.get_database('faculty') # We select the name of db that we use\n",
    "collection_names = db.list_collection_names() #I want to know all collections in my db\n",
    "for name in collection_names:\n",
    "    print(name)"
   ]
  },
  {
   "cell_type": "code",
   "execution_count": 4,
   "metadata": {},
   "outputs": [
    {
     "name": "stdout",
     "output_type": "stream",
     "text": [
      "{'_id': 1, 'name': 'Ahmed Ali', 'age': 27, 'level': 1, 'gpa': 2.4, 'city': 'Assiut'}\n",
      "{'_id': 2, 'name': 'Omar Ahmed', 'age': 30, 'level': 1, 'gpa': 3.4, 'city': 'Sohage'}\n",
      "{'_id': 3, 'name': 'Ahmed Khalid', 'age': 32, 'level': 2, 'gpa': 2.1, 'city': 'Assiut'}\n",
      "{'_id': 4, 'name': 'Khalid Omar', 'age': 25, 'level': 2, 'gpa': 3.2, 'city': 'Assiut'}\n",
      "{'_id': 5, 'name': 'Omar Ahmed', 'age': 22, 'level': 3, 'gpa': 2.5, 'city': 'Sohage'}\n",
      "{'_id': 6, 'name': 'Ahmed Omar', 'age': 20, 'level': 3, 'gpa': 2.7, 'city': 'Sohage'}\n",
      "{'_id': 7, 'name': 'Ahmed Amar', 'age': 25, 'level': 2, 'gpa': 3.6, 'city': 'Sohage'}\n",
      "{'_id': 8, 'name': 'Omar ALI', 'age': 24, 'level': 3, 'gpa': 3.9, 'city': 'Assiut'}\n",
      "{'_id': 9, 'name': 'Tarek ALI', 'age': 24, 'level': 3, 'gpa': 3.9, 'city': 'Assiut'}\n",
      "{'_id': 10, 'name': 'Ahmed ALI', 'age': 25, 'level': 3, 'gpa': 3.9, 'city': 'Assiut'}\n"
     ]
    }
   ],
   "source": [
    "# access a database\n",
    "db = client.get_database(\"faculty\")  \n",
    "\n",
    "# access a collection\n",
    "collection = db.get_collection(\"student\")\n",
    "\n",
    "# find all documents in the collection\n",
    "cursor = collection.find()\n",
    "\n",
    "# iterate over the cursor to access each document\n",
    "for document in cursor:\n",
    "    print(document)"
   ]
  },
  {
   "cell_type": "code",
   "execution_count": 5,
   "metadata": {},
   "outputs": [
    {
     "name": "stdout",
     "output_type": "stream",
     "text": [
      "Name \t\t Age\n",
      "Ahmed Ali \t 27\n",
      "Omar Ahmed \t 30\n",
      "Ahmed Khalid \t 32\n",
      "Khalid Omar \t 25\n",
      "Omar Ahmed \t 22\n",
      "Ahmed Omar \t 20\n",
      "Ahmed Amar \t 25\n",
      "Omar ALI \t 24\n",
      "Tarek ALI \t 24\n",
      "Ahmed ALI \t 25\n"
     ]
    }
   ],
   "source": [
    "# find all documents in the collection after insert\n",
    "cursor = collection.find()\n",
    "# iterate over the cursor to access attributes\n",
    "print(\"Name \\t\\t Age\")\n",
    "for document in cursor:\n",
    "    print(document['name'],\"\\t\",document['age'])"
   ]
  },
  {
   "cell_type": "code",
   "execution_count": 6,
   "metadata": {},
   "outputs": [
    {
     "name": "stdout",
     "output_type": "stream",
     "text": [
      "11\n",
      "12\n"
     ]
    }
   ],
   "source": [
    "from pymongo import MongoClient\n",
    "\n",
    "# replace 'localhost' with the IP address of your MongoDB server\n",
    "client = MongoClient('localhost', 27017)\n",
    "\n",
    "# retrieve the 'faculty' database and the 'students' collection\n",
    "db = client.get_database(\"faculty\")\n",
    "collection = db.get_collection(\"student\")\n",
    "\n",
    "# create a document to insert into the collection\n",
    "new_student = {'_id': 11, 'name': 'EEEEE', 'city': 'Sohage'}\n",
    "\n",
    "# insert the document into the collection\n",
    "result1 = collection.insert_one(new_student)\n",
    "#OR\n",
    "result2 = collection.insert_one({'_id': 12, 'name': 'FFFFFFF', 'city': 'Assiut'})\n",
    "\n",
    "# print the ID of the newly inserted document\n",
    "print(result1.inserted_id)\n",
    "print(result2.inserted_id)"
   ]
  },
  {
   "cell_type": "code",
   "execution_count": 7,
   "metadata": {},
   "outputs": [
    {
     "name": "stdout",
     "output_type": "stream",
     "text": [
      "{'_id': 1, 'name': 'Ahmed Ali', 'age': 27, 'level': 1, 'gpa': 2.4, 'city': 'Assiut'}\n",
      "{'_id': 2, 'name': 'Omar Ahmed', 'age': 30, 'level': 1, 'gpa': 3.4, 'city': 'Sohage'}\n",
      "{'_id': 3, 'name': 'Ahmed Khalid', 'age': 32, 'level': 2, 'gpa': 2.1, 'city': 'Assiut'}\n",
      "{'_id': 4, 'name': 'Khalid Omar', 'age': 25, 'level': 2, 'gpa': 3.2, 'city': 'Assiut'}\n",
      "{'_id': 5, 'name': 'Omar Ahmed', 'age': 22, 'level': 3, 'gpa': 2.5, 'city': 'Sohage'}\n",
      "{'_id': 6, 'name': 'Ahmed Omar', 'age': 20, 'level': 3, 'gpa': 2.7, 'city': 'Sohage'}\n",
      "{'_id': 7, 'name': 'Ahmed Amar', 'age': 25, 'level': 2, 'gpa': 3.6, 'city': 'Sohage'}\n",
      "{'_id': 8, 'name': 'Omar ALI', 'age': 24, 'level': 3, 'gpa': 3.9, 'city': 'Assiut'}\n",
      "{'_id': 9, 'name': 'Tarek ALI', 'age': 24, 'level': 3, 'gpa': 3.9, 'city': 'Assiut'}\n",
      "{'_id': 10, 'name': 'Ahmed ALI', 'age': 25, 'level': 3, 'gpa': 3.9, 'city': 'Assiut'}\n",
      "{'_id': 11, 'name': 'EEEEE', 'city': 'Sohage'}\n",
      "{'_id': 12, 'name': 'FFFFFFF', 'city': 'Assiut'}\n"
     ]
    }
   ],
   "source": [
    "# find all documents in the collection after insert\n",
    "cursor = collection.find()\n",
    "\n",
    "# iterate over the cursor to access each document\n",
    "for document in cursor:\n",
    "    print(document)\n"
   ]
  },
  {
   "cell_type": "code",
   "execution_count": 8,
   "metadata": {},
   "outputs": [
    {
     "name": "stdout",
     "output_type": "stream",
     "text": [
      "1\n"
     ]
    }
   ],
   "source": [
    "# create a filter to select the document to update\n",
    "filter = {\"name\": \"EEEEE\"}\n",
    "\n",
    "# create an update document\n",
    "update = {\"$set\": {\"city\": \"Assiut\"}}\n",
    "\n",
    "# update the document in the collection\n",
    "result = collection.update_one(filter, update)\n",
    "\n",
    "# print the number of documents updated\n",
    "print(result.modified_count)"
   ]
  },
  {
   "cell_type": "code",
   "execution_count": 10,
   "metadata": {},
   "outputs": [
    {
     "name": "stdout",
     "output_type": "stream",
     "text": [
      "{'_id': 1, 'name': 'Ahmed Ali', 'age': 27, 'level': 1, 'gpa': 2.4, 'city': 'Assiut'}\n",
      "{'_id': 2, 'name': 'Omar Ahmed', 'age': 30, 'level': 1, 'gpa': 3.4, 'city': 'Sohage'}\n",
      "{'_id': 3, 'name': 'Ahmed Khalid', 'age': 32, 'level': 2, 'gpa': 2.1, 'city': 'Assiut'}\n",
      "{'_id': 4, 'name': 'Khalid Omar', 'age': 25, 'level': 2, 'gpa': 3.2, 'city': 'Assiut'}\n",
      "{'_id': 5, 'name': 'Omar Ahmed', 'age': 22, 'level': 3, 'gpa': 2.5, 'city': 'Sohage'}\n",
      "{'_id': 6, 'name': 'Ahmed Omar', 'age': 20, 'level': 3, 'gpa': 2.7, 'city': 'Sohage'}\n",
      "{'_id': 7, 'name': 'Ahmed Amar', 'age': 25, 'level': 2, 'gpa': 3.6, 'city': 'Sohage'}\n",
      "{'_id': 8, 'name': 'Omar ALI', 'age': 24, 'level': 3, 'gpa': 3.9, 'city': 'Assiut'}\n",
      "{'_id': 9, 'name': 'Tarek ALI', 'age': 24, 'level': 3, 'gpa': 3.9, 'city': 'Assiut'}\n",
      "{'_id': 10, 'name': 'Ahmed ALI', 'age': 25, 'level': 3, 'gpa': 3.9, 'city': 'Assiut'}\n",
      "{'_id': 11, 'name': 'EEEEE', 'city': 'Assiut'}\n",
      "{'_id': 12, 'name': 'FFFFFFF', 'city': 'Assiut'}\n"
     ]
    }
   ],
   "source": [
    "# find all documents in the collection after update\n",
    "cursor = collection.find()\n",
    "#print(cursor)\n",
    "# iterate over the cursor to access each document\n",
    "for document in cursor:\n",
    "    print(document)\n"
   ]
  },
  {
   "cell_type": "code",
   "execution_count": 11,
   "metadata": {},
   "outputs": [
    {
     "name": "stdout",
     "output_type": "stream",
     "text": [
      "2 documents deleted\n"
     ]
    }
   ],
   "source": [
    "# Delete multiple documents by id\n",
    "result = collection.delete_many({\"_id\": {\"$in\": [11, 12]}})\n",
    "print(result.deleted_count, \"documents deleted\")\n"
   ]
  },
  {
   "cell_type": "code",
   "execution_count": 23,
   "metadata": {},
   "outputs": [
    {
     "ename": "TclError",
     "evalue": "image \"pyimage5\" doesn't exist",
     "output_type": "error",
     "traceback": [
      "\u001b[1;31m---------------------------------------------------------------------------\u001b[0m",
      "\u001b[1;31mTclError\u001b[0m                                  Traceback (most recent call last)",
      "Cell \u001b[1;32mIn[23], line 11\u001b[0m\n\u001b[0;32m      8\u001b[0m imag \u001b[39m=\u001b[39m Image\u001b[39m.\u001b[39mopen(\u001b[39m\"\u001b[39m\u001b[39mimage1.png\u001b[39m\u001b[39m\"\u001b[39m)\n\u001b[0;32m      9\u001b[0m photo \u001b[39m=\u001b[39m ImageTk\u001b[39m.\u001b[39mPhotoImage(imag)\n\u001b[1;32m---> 11\u001b[0m label \u001b[39m=\u001b[39m Label(root, image\u001b[39m=\u001b[39;49mphoto)\n\u001b[0;32m     12\u001b[0m label\u001b[39m.\u001b[39mpack()\n\u001b[0;32m     14\u001b[0m root\u001b[39m.\u001b[39mmainloop()\n",
      "File \u001b[1;32mc:\\Users\\User\\AppData\\Local\\Programs\\Python\\Python38\\lib\\tkinter\\__init__.py:3143\u001b[0m, in \u001b[0;36mLabel.__init__\u001b[1;34m(self, master, cnf, **kw)\u001b[0m\n\u001b[0;32m   3125\u001b[0m \u001b[39mdef\u001b[39;00m \u001b[39m__init__\u001b[39m(\u001b[39mself\u001b[39m, master\u001b[39m=\u001b[39m\u001b[39mNone\u001b[39;00m, cnf\u001b[39m=\u001b[39m{}, \u001b[39m*\u001b[39m\u001b[39m*\u001b[39mkw):\n\u001b[0;32m   3126\u001b[0m \u001b[39m    \u001b[39m\u001b[39m\"\"\"Construct a label widget with the parent MASTER.\u001b[39;00m\n\u001b[0;32m   3127\u001b[0m \n\u001b[0;32m   3128\u001b[0m \u001b[39m    STANDARD OPTIONS\u001b[39;00m\n\u001b[1;32m   (...)\u001b[0m\n\u001b[0;32m   3141\u001b[0m \n\u001b[0;32m   3142\u001b[0m \u001b[39m    \"\"\"\u001b[39;00m\n\u001b[1;32m-> 3143\u001b[0m     Widget\u001b[39m.\u001b[39;49m\u001b[39m__init__\u001b[39;49m(\u001b[39mself\u001b[39;49m, master, \u001b[39m'\u001b[39;49m\u001b[39mlabel\u001b[39;49m\u001b[39m'\u001b[39;49m, cnf, kw)\n",
      "File \u001b[1;32mc:\\Users\\User\\AppData\\Local\\Programs\\Python\\Python38\\lib\\tkinter\\__init__.py:2567\u001b[0m, in \u001b[0;36mBaseWidget.__init__\u001b[1;34m(self, master, widgetName, cnf, kw, extra)\u001b[0m\n\u001b[0;32m   2565\u001b[0m \u001b[39mfor\u001b[39;00m k, v \u001b[39min\u001b[39;00m classes:\n\u001b[0;32m   2566\u001b[0m     \u001b[39mdel\u001b[39;00m cnf[k]\n\u001b[1;32m-> 2567\u001b[0m \u001b[39mself\u001b[39;49m\u001b[39m.\u001b[39;49mtk\u001b[39m.\u001b[39;49mcall(\n\u001b[0;32m   2568\u001b[0m     (widgetName, \u001b[39mself\u001b[39;49m\u001b[39m.\u001b[39;49m_w) \u001b[39m+\u001b[39;49m extra \u001b[39m+\u001b[39;49m \u001b[39mself\u001b[39;49m\u001b[39m.\u001b[39;49m_options(cnf))\n\u001b[0;32m   2569\u001b[0m \u001b[39mfor\u001b[39;00m k, v \u001b[39min\u001b[39;00m classes:\n\u001b[0;32m   2570\u001b[0m     k\u001b[39m.\u001b[39mconfigure(\u001b[39mself\u001b[39m, v)\n",
      "\u001b[1;31mTclError\u001b[0m: image \"pyimage5\" doesn't exist"
     ]
    }
   ],
   "source": [
    "\n",
    "from tkinter import *\n",
    "from PIL import Image, ImageTk\n",
    "#BackGround Photo\n",
    "\n",
    "root = Tk()\n",
    "root.geometry(\"600x400\")\n",
    "\n",
    "imag = Image.open(\"image1.png\")\n",
    "photo = ImageTk.PhotoImage(imag)\n",
    "\n",
    "label = Label(root, image=photo)\n",
    "label.pack()\n",
    "\n",
    "root.mainloop()"
   ]
  },
  {
   "cell_type": "code",
   "execution_count": 17,
   "metadata": {},
   "outputs": [
    {
     "ename": "ModuleNotFoundError",
     "evalue": "No module named 'PLT'",
     "output_type": "error",
     "traceback": [
      "\u001b[1;31m---------------------------------------------------------------------------\u001b[0m",
      "\u001b[1;31mModuleNotFoundError\u001b[0m                       Traceback (most recent call last)",
      "Cell \u001b[1;32mIn[17], line 8\u001b[0m\n\u001b[0;32m      6\u001b[0m \u001b[39mfrom\u001b[39;00m \u001b[39mpymongo\u001b[39;00m \u001b[39mimport\u001b[39;00m MongoClient\n\u001b[0;32m      7\u001b[0m \u001b[39mfrom\u001b[39;00m \u001b[39mtkinter\u001b[39;00m \u001b[39mimport\u001b[39;00m messagebox\n\u001b[1;32m----> 8\u001b[0m \u001b[39mfrom\u001b[39;00m \u001b[39mPLT\u001b[39;00m \u001b[39mimport\u001b[39;00m Image\n\u001b[0;32m      9\u001b[0m \u001b[39m# Connect to MongoDB\u001b[39;00m\n\u001b[0;32m     10\u001b[0m \u001b[39m#client = MongoClient(\"mongodb://localhost:27017\")\u001b[39;00m\n\u001b[0;32m     11\u001b[0m \u001b[39m#db = client[\"Protein\"]\u001b[39;00m\n\u001b[0;32m     12\u001b[0m \n\u001b[0;32m     13\u001b[0m \u001b[39m# Create the main window\u001b[39;00m\n\u001b[0;32m     14\u001b[0m window \u001b[39m=\u001b[39m tk\u001b[39m.\u001b[39mTk()\n",
      "\u001b[1;31mModuleNotFoundError\u001b[0m: No module named 'PLT'"
     ]
    }
   ],
   "source": [
    "import json\n",
    "import tkinter as tk\n",
    "#import Pillow\n",
    "import pymongo\n",
    "from tkinter import ttk\n",
    "from pymongo import MongoClient\n",
    "from tkinter import messagebox\n",
    "from PLT import Image\n",
    "# Connect to MongoDB\n",
    "#client = MongoClient(\"mongodb://localhost:27017\")\n",
    "#db = client[\"Protein\"]\n",
    "\n",
    "# Create the main window\n",
    "window = tk.Tk()\n",
    "window.title(\"Protein Structure Data Management\")\n",
    "window.geometry(\"800x600\")\n",
    "# Open the image file\n",
    "image = Image.open(\"image1.gif\")\n",
    "# Resize the image\n",
    "resized_image = image.resize((1700, 1700))\n",
    "# Save the resized image\n",
    "resized_image.save(\"resized_image.gif\")\n",
    "\n",
    "# Use the resized image in your Tkinter application\n",
    "background_image = tk.PhotoImage(file=\"resized_image.gif\")\n",
    "background_label = tk.Label(window, image=background_image)\n",
    "background_label.place(x=0, y=0, relwidth=1, relheight=1)"
   ]
  },
  {
   "cell_type": "code",
   "execution_count": 25,
   "metadata": {},
   "outputs": [
    {
     "ename": "TclError",
     "evalue": "image \"pyimage7\" doesn't exist",
     "output_type": "error",
     "traceback": [
      "\u001b[1;31m---------------------------------------------------------------------------\u001b[0m",
      "\u001b[1;31mTclError\u001b[0m                                  Traceback (most recent call last)",
      "Cell \u001b[1;32mIn[25], line 9\u001b[0m\n\u001b[0;32m      6\u001b[0m canv\u001b[39m.\u001b[39mgrid(row\u001b[39m=\u001b[39m\u001b[39m4\u001b[39m, column\u001b[39m=\u001b[39m\u001b[39m6\u001b[39m)\n\u001b[0;32m      8\u001b[0m img \u001b[39m=\u001b[39m ImageTk\u001b[39m.\u001b[39mPhotoImage(Image\u001b[39m.\u001b[39mopen(\u001b[39m\"\u001b[39m\u001b[39mimage2.gif\u001b[39m\u001b[39m\"\u001b[39m))  \u001b[39m# PIL solution\u001b[39;00m\n\u001b[1;32m----> 9\u001b[0m canv\u001b[39m.\u001b[39;49mcreate_image(\u001b[39m4\u001b[39;49m, \u001b[39m6\u001b[39;49m, anchor\u001b[39m=\u001b[39;49mNW, image\u001b[39m=\u001b[39;49mimg)\n\u001b[0;32m     11\u001b[0m mainloop()\n",
      "File \u001b[1;32mc:\\Users\\User\\AppData\\Local\\Programs\\Python\\Python38\\lib\\tkinter\\__init__.py:2785\u001b[0m, in \u001b[0;36mCanvas.create_image\u001b[1;34m(self, *args, **kw)\u001b[0m\n\u001b[0;32m   2783\u001b[0m \u001b[39mdef\u001b[39;00m \u001b[39mcreate_image\u001b[39m(\u001b[39mself\u001b[39m, \u001b[39m*\u001b[39margs, \u001b[39m*\u001b[39m\u001b[39m*\u001b[39mkw):\n\u001b[0;32m   2784\u001b[0m \u001b[39m    \u001b[39m\u001b[39m\"\"\"Create image item with coordinates x1,y1.\"\"\"\u001b[39;00m\n\u001b[1;32m-> 2785\u001b[0m     \u001b[39mreturn\u001b[39;00m \u001b[39mself\u001b[39;49m\u001b[39m.\u001b[39;49m_create(\u001b[39m'\u001b[39;49m\u001b[39mimage\u001b[39;49m\u001b[39m'\u001b[39;49m, args, kw)\n",
      "File \u001b[1;32mc:\\Users\\User\\AppData\\Local\\Programs\\Python\\Python38\\lib\\tkinter\\__init__.py:2771\u001b[0m, in \u001b[0;36mCanvas._create\u001b[1;34m(self, itemType, args, kw)\u001b[0m\n\u001b[0;32m   2769\u001b[0m \u001b[39melse\u001b[39;00m:\n\u001b[0;32m   2770\u001b[0m     cnf \u001b[39m=\u001b[39m {}\n\u001b[1;32m-> 2771\u001b[0m \u001b[39mreturn\u001b[39;00m \u001b[39mself\u001b[39m\u001b[39m.\u001b[39mtk\u001b[39m.\u001b[39mgetint(\u001b[39mself\u001b[39;49m\u001b[39m.\u001b[39;49mtk\u001b[39m.\u001b[39;49mcall(\n\u001b[0;32m   2772\u001b[0m     \u001b[39mself\u001b[39;49m\u001b[39m.\u001b[39;49m_w, \u001b[39m'\u001b[39;49m\u001b[39mcreate\u001b[39;49m\u001b[39m'\u001b[39;49m, itemType,\n\u001b[0;32m   2773\u001b[0m     \u001b[39m*\u001b[39;49m(args \u001b[39m+\u001b[39;49m \u001b[39mself\u001b[39;49m\u001b[39m.\u001b[39;49m_options(cnf, kw))))\n",
      "\u001b[1;31mTclError\u001b[0m: image \"pyimage7\" doesn't exist"
     ]
    }
   ],
   "source": [
    "from tkinter import *\n",
    "from PIL import ImageTk, Image\n",
    "root = Tk()\n",
    "\n",
    "canv = Canvas(root, width=1200, height=1200, bg='blue')\n",
    "canv.grid(row=4, column=6)\n",
    "\n",
    "img = ImageTk.PhotoImage(Image.open(\"image2.gif\"))  # PIL solution\n",
    "canv.create_image(4, 6, anchor=NW, image=img)\n",
    "\n",
    "mainloop()"
   ]
  },
  {
   "cell_type": "code",
   "execution_count": null,
   "metadata": {},
   "outputs": [],
   "source": []
  }
 ],
 "metadata": {
  "kernelspec": {
   "display_name": "Python 3",
   "language": "python",
   "name": "python3"
  },
  "language_info": {
   "codemirror_mode": {
    "name": "ipython",
    "version": 3
   },
   "file_extension": ".py",
   "mimetype": "text/x-python",
   "name": "python",
   "nbconvert_exporter": "python",
   "pygments_lexer": "ipython3",
   "version": "3.8.5"
  },
  "orig_nbformat": 4
 },
 "nbformat": 4,
 "nbformat_minor": 2
}
